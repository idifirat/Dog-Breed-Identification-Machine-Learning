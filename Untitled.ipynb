{
 "cells": [
  {
   "cell_type": "code",
   "execution_count": 42,
   "id": "0da85c3d",
   "metadata": {},
   "outputs": [],
   "source": [
    "import numpy as np\n",
    "import os\n",
    "os.environ[\"TF_CPP_MIN_LOG_LEVEL\"] = \"2\"\n",
    "import tensorflow as tf\n",
    "from tensorflow import keras\n",
    "from tensorflow.keras import datasets, layers, models\n",
    "import tensorflow_hub as hub\n",
    "from tqdm import tqdm\n",
    "\n",
    "\n",
    "import torchvision.datasets as datasets\n",
    "from torch.utils.data import WeightedRandomSampler, DataLoader\n",
    "import torchvision.transforms as transforms\n"
   ]
  },
  {
   "cell_type": "code",
   "execution_count": 44,
   "id": "4b0113e5",
   "metadata": {},
   "outputs": [],
   "source": [
    "physical_devices = tf.config.list_physical_devices(\"GPU\")\n",
    "if len(physical_devices) > 0:\n",
    "    tf.config.experimental.set_memory_growth(physical_devices[0], True)\n",
    "    \n",
    "URL = \"https://tfhub.dev./tensorflow/efficientnet/b0/feature-vector/1\"\n",
    "IMG_SIZE = 224\n",
    "BATCH_SIZE = 32\n",
    "NUM_CLASSES = 127\n",
    "NUM_EPOCHS = 3\n",
    "DATA_DIR = \"data/\"\n",
    "MODEL_PATH = \"efficientb0/\"\n",
    "LOAD_MODEL = False\n",
    "\n",
    "os.environ[\"TFHUB_DOWNLOAD_PROGRESS\"] = \"1\"\n",
    "os.environ[\"TFHUB_CACHE_DIR\"] = \"C:/Users/idifr\"\n"
   ]
  },
  {
   "cell_type": "code",
   "execution_count": 45,
   "id": "e6894ebf",
   "metadata": {},
   "outputs": [],
   "source": [
    "def get_loaders(train_dir, dev_dir, batch_size, image_size):\n",
    "    print(\"getting loaders\")\n",
    "    train_transforms = transforms.Compose(\n",
    "        [\n",
    "            transforms.Resize((300,300)),\n",
    "            transforms.RandomCrop((image_size,image_size)),\n",
    "            transforms.RandomHorizontalFlip(p=0.5),\n",
    "            transforms.RandomVerticalFlip(p=0.5),transforms.ToTensor()\n",
    "        ]\n",
    "    )\n",
    "    dev_transforms = transforms.Compose([\n",
    "        transforms.Resize((image_size, image_size)),\n",
    "        transforms.ToTensor(),\n",
    "    ])\n",
    "    train_dataset = datasets.ImageFolder(root=train_dir,\n",
    "                                        transform=train_transforms)\n",
    "    dev_dataset = datasets.ImageFolder(root=dev_dir,\n",
    "                                        transform=train_transforms)\n",
    "    val_loader = DataLoader(dev_dataset, batch_size = batch_size,\n",
    "                           num_workers=2, pin_memory = True)\n",
    "    class_weights = []\n",
    "    for root, subdir, files in os.walk(train_dir):\n",
    "        if len(files) > 0:\n",
    "            class_weights.append(1/len(files))\n",
    "            \n",
    "    sample_weights = [0] * len(train_dataset)\n",
    "    \n",
    "    for idx, (data,label) in enumerate(tqdm(train_dataset.imgs)):\n",
    "        class_weight = class_weights[label]\n",
    "        sample_weights[idx] = class_weight\n",
    "        \n",
    "    sampler = WeightedRandomSampler(sample_weights, num_samples =\n",
    "                                   len(sample_weights), replacement= True)\n",
    "    train_loader = DataLoader(train_dataset, batch_size = batch_size, sampler = sampler,\n",
    "                             num_workers=2, pin_memory=True)\n",
    "    \n",
    "    return train_loader, val_loader"
   ]
  },
  {
   "cell_type": "code",
   "execution_count": 47,
   "id": "8a89db34",
   "metadata": {
    "scrolled": false
   },
   "outputs": [
    {
     "name": "stdout",
     "output_type": "stream",
     "text": [
      "getting loaders\n"
     ]
    },
    {
     "name": "stderr",
     "output_type": "stream",
     "text": [
      "100%|███████████████████████████████████████████████████████████████████████| 20580/20580 [00:00<00:00, 4154335.18it/s]\n"
     ]
    },
    {
     "name": "stdout",
     "output_type": "stream",
     "text": [
      "Building model\n"
     ]
    },
    {
     "name": "stderr",
     "output_type": "stream",
     "text": [
      " 23%|██████████████████▋                                                             | 150/644 [08:10<26:10,  3.18s/it]"
     ]
    },
    {
     "name": "stdout",
     "output_type": "stream",
     "text": [
      "Accuracy over epoch (so far) 0.23178808391094208\n",
      "Accuracy over validation set: 0.5098039507865906\n",
      "WARNING:tensorflow:Compiled the loaded model, but the compiled metrics have yet to be built. `model.compile_metrics` will be empty until you train or evaluate the model.\n"
     ]
    },
    {
     "name": "stderr",
     "output_type": "stream",
     "text": [
      "WARNING:tensorflow:Compiled the loaded model, but the compiled metrics have yet to be built. `model.compile_metrics` will be empty until you train or evaluate the model.\n"
     ]
    },
    {
     "name": "stdout",
     "output_type": "stream",
     "text": [
      "INFO:tensorflow:Assets written to: efficientb0/assets\n"
     ]
    },
    {
     "name": "stderr",
     "output_type": "stream",
     "text": [
      "INFO:tensorflow:Assets written to: efficientb0/assets\n",
      " 47%|█████████████████████████████████████▎                                          | 300/644 [17:34<18:24,  3.21s/it]"
     ]
    },
    {
     "name": "stdout",
     "output_type": "stream",
     "text": [
      "Accuracy over epoch (so far) 0.36856311559677124\n",
      "Accuracy over validation set: 0.6574394702911377\n",
      "WARNING:tensorflow:Compiled the loaded model, but the compiled metrics have yet to be built. `model.compile_metrics` will be empty until you train or evaluate the model.\n"
     ]
    },
    {
     "name": "stderr",
     "output_type": "stream",
     "text": [
      "WARNING:tensorflow:Compiled the loaded model, but the compiled metrics have yet to be built. `model.compile_metrics` will be empty until you train or evaluate the model.\n"
     ]
    },
    {
     "name": "stdout",
     "output_type": "stream",
     "text": [
      "INFO:tensorflow:Assets written to: efficientb0/assets\n"
     ]
    },
    {
     "name": "stderr",
     "output_type": "stream",
     "text": [
      "INFO:tensorflow:Assets written to: efficientb0/assets\n",
      " 70%|███████████████████████████████████████████████████████▉                        | 450/644 [26:55<10:20,  3.20s/it]"
     ]
    },
    {
     "name": "stdout",
     "output_type": "stream",
     "text": [
      "Accuracy over epoch (so far) 0.44463691115379333\n",
      "Accuracy over validation set: 0.705113410949707\n",
      "WARNING:tensorflow:Compiled the loaded model, but the compiled metrics have yet to be built. `model.compile_metrics` will be empty until you train or evaluate the model.\n"
     ]
    },
    {
     "name": "stderr",
     "output_type": "stream",
     "text": [
      "WARNING:tensorflow:Compiled the loaded model, but the compiled metrics have yet to be built. `model.compile_metrics` will be empty until you train or evaluate the model.\n"
     ]
    },
    {
     "name": "stdout",
     "output_type": "stream",
     "text": [
      "INFO:tensorflow:Assets written to: efficientb0/assets\n"
     ]
    },
    {
     "name": "stderr",
     "output_type": "stream",
     "text": [
      "INFO:tensorflow:Assets written to: efficientb0/assets\n",
      " 93%|██████████████████████████████████████████████████████████████████████████▌     | 600/644 [36:16<02:20,  3.19s/it]"
     ]
    },
    {
     "name": "stdout",
     "output_type": "stream",
     "text": [
      "Accuracy over epoch (so far) 0.49225249886512756\n",
      "Accuracy over validation set: 0.7320261597633362\n",
      "WARNING:tensorflow:Compiled the loaded model, but the compiled metrics have yet to be built. `model.compile_metrics` will be empty until you train or evaluate the model.\n"
     ]
    },
    {
     "name": "stderr",
     "output_type": "stream",
     "text": [
      "WARNING:tensorflow:Compiled the loaded model, but the compiled metrics have yet to be built. `model.compile_metrics` will be empty until you train or evaluate the model.\n"
     ]
    },
    {
     "name": "stdout",
     "output_type": "stream",
     "text": [
      "INFO:tensorflow:Assets written to: efficientb0/assets\n"
     ]
    },
    {
     "name": "stderr",
     "output_type": "stream",
     "text": [
      "INFO:tensorflow:Assets written to: efficientb0/assets\n",
      "100%|████████████████████████████████████████████████████████████████████████████████| 644/644 [40:00<00:00,  3.73s/it]\n",
      " 23%|██████████████████▋                                                             | 150/644 [08:02<26:05,  3.17s/it]"
     ]
    },
    {
     "name": "stdout",
     "output_type": "stream",
     "text": [
      "Accuracy over epoch (so far) 0.5373052358627319\n",
      "Accuracy over validation set: 0.7735486626625061\n",
      "WARNING:tensorflow:Compiled the loaded model, but the compiled metrics have yet to be built. `model.compile_metrics` will be empty until you train or evaluate the model.\n"
     ]
    },
    {
     "name": "stderr",
     "output_type": "stream",
     "text": [
      "WARNING:tensorflow:Compiled the loaded model, but the compiled metrics have yet to be built. `model.compile_metrics` will be empty until you train or evaluate the model.\n"
     ]
    },
    {
     "name": "stdout",
     "output_type": "stream",
     "text": [
      "INFO:tensorflow:Assets written to: efficientb0/assets\n"
     ]
    },
    {
     "name": "stderr",
     "output_type": "stream",
     "text": [
      "INFO:tensorflow:Assets written to: efficientb0/assets\n",
      " 47%|█████████████████████████████████████▎                                          | 300/644 [17:21<18:17,  3.19s/it]"
     ]
    },
    {
     "name": "stdout",
     "output_type": "stream",
     "text": [
      "Accuracy over epoch (so far) 0.5639150142669678\n",
      "Accuracy over validation set: 0.7858515977859497\n",
      "WARNING:tensorflow:Compiled the loaded model, but the compiled metrics have yet to be built. `model.compile_metrics` will be empty until you train or evaluate the model.\n"
     ]
    },
    {
     "name": "stderr",
     "output_type": "stream",
     "text": [
      "WARNING:tensorflow:Compiled the loaded model, but the compiled metrics have yet to be built. `model.compile_metrics` will be empty until you train or evaluate the model.\n"
     ]
    },
    {
     "name": "stdout",
     "output_type": "stream",
     "text": [
      "INFO:tensorflow:Assets written to: efficientb0/assets\n"
     ]
    },
    {
     "name": "stderr",
     "output_type": "stream",
     "text": [
      "INFO:tensorflow:Assets written to: efficientb0/assets\n",
      " 70%|███████████████████████████████████████████████████████▉                        | 450/644 [26:46<10:21,  3.20s/it]"
     ]
    },
    {
     "name": "stdout",
     "output_type": "stream",
     "text": [
      "Accuracy over epoch (so far) 0.5849708914756775\n",
      "Accuracy over validation set: 0.7962322235107422\n",
      "WARNING:tensorflow:Compiled the loaded model, but the compiled metrics have yet to be built. `model.compile_metrics` will be empty until you train or evaluate the model.\n"
     ]
    },
    {
     "name": "stderr",
     "output_type": "stream",
     "text": [
      "WARNING:tensorflow:Compiled the loaded model, but the compiled metrics have yet to be built. `model.compile_metrics` will be empty until you train or evaluate the model.\n"
     ]
    },
    {
     "name": "stdout",
     "output_type": "stream",
     "text": [
      "INFO:tensorflow:Assets written to: efficientb0/assets\n"
     ]
    },
    {
     "name": "stderr",
     "output_type": "stream",
     "text": [
      "INFO:tensorflow:Assets written to: efficientb0/assets\n",
      " 93%|██████████████████████████████████████████████████████████████████████████▌     | 600/644 [36:06<02:20,  3.19s/it]"
     ]
    },
    {
     "name": "stdout",
     "output_type": "stream",
     "text": [
      "Accuracy over epoch (so far) 0.6018537282943726\n",
      "Accuracy over validation set: 0.8104575276374817\n",
      "WARNING:tensorflow:Compiled the loaded model, but the compiled metrics have yet to be built. `model.compile_metrics` will be empty until you train or evaluate the model.\n"
     ]
    },
    {
     "name": "stderr",
     "output_type": "stream",
     "text": [
      "WARNING:tensorflow:Compiled the loaded model, but the compiled metrics have yet to be built. `model.compile_metrics` will be empty until you train or evaluate the model.\n"
     ]
    },
    {
     "name": "stdout",
     "output_type": "stream",
     "text": [
      "INFO:tensorflow:Assets written to: efficientb0/assets\n"
     ]
    },
    {
     "name": "stderr",
     "output_type": "stream",
     "text": [
      "INFO:tensorflow:Assets written to: efficientb0/assets\n",
      "100%|████████████████████████████████████████████████████████████████████████████████| 644/644 [39:44<00:00,  3.70s/it]\n",
      " 23%|██████████████████▋                                                             | 150/644 [08:00<26:09,  3.18s/it]"
     ]
    },
    {
     "name": "stdout",
     "output_type": "stream",
     "text": [
      "Accuracy over epoch (so far) 0.6216951012611389\n",
      "Accuracy over validation set: 0.8112264275550842\n",
      "WARNING:tensorflow:Compiled the loaded model, but the compiled metrics have yet to be built. `model.compile_metrics` will be empty until you train or evaluate the model.\n"
     ]
    },
    {
     "name": "stderr",
     "output_type": "stream",
     "text": [
      "WARNING:tensorflow:Compiled the loaded model, but the compiled metrics have yet to be built. `model.compile_metrics` will be empty until you train or evaluate the model.\n"
     ]
    },
    {
     "name": "stdout",
     "output_type": "stream",
     "text": [
      "INFO:tensorflow:Assets written to: efficientb0/assets\n"
     ]
    },
    {
     "name": "stderr",
     "output_type": "stream",
     "text": [
      "INFO:tensorflow:Assets written to: efficientb0/assets\n",
      " 47%|█████████████████████████████████████▎                                          | 300/644 [17:14<18:07,  3.16s/it]"
     ]
    },
    {
     "name": "stdout",
     "output_type": "stream",
     "text": [
      "Accuracy over epoch (so far) 0.6355134844779968\n",
      "Accuracy over validation set: 0.8408304452896118\n",
      "WARNING:tensorflow:Compiled the loaded model, but the compiled metrics have yet to be built. `model.compile_metrics` will be empty until you train or evaluate the model.\n"
     ]
    },
    {
     "name": "stderr",
     "output_type": "stream",
     "text": [
      "WARNING:tensorflow:Compiled the loaded model, but the compiled metrics have yet to be built. `model.compile_metrics` will be empty until you train or evaluate the model.\n"
     ]
    },
    {
     "name": "stdout",
     "output_type": "stream",
     "text": [
      "INFO:tensorflow:Assets written to: efficientb0/assets\n"
     ]
    },
    {
     "name": "stderr",
     "output_type": "stream",
     "text": [
      "INFO:tensorflow:Assets written to: efficientb0/assets\n",
      " 70%|███████████████████████████████████████████████████████▉                        | 450/644 [26:30<10:21,  3.20s/it]"
     ]
    },
    {
     "name": "stdout",
     "output_type": "stream",
     "text": [
      "Accuracy over epoch (so far) 0.6475391983985901\n",
      "Accuracy over validation set: 0.8404459953308105\n",
      "WARNING:tensorflow:Compiled the loaded model, but the compiled metrics have yet to be built. `model.compile_metrics` will be empty until you train or evaluate the model.\n"
     ]
    },
    {
     "name": "stderr",
     "output_type": "stream",
     "text": [
      "WARNING:tensorflow:Compiled the loaded model, but the compiled metrics have yet to be built. `model.compile_metrics` will be empty until you train or evaluate the model.\n"
     ]
    },
    {
     "name": "stdout",
     "output_type": "stream",
     "text": [
      "INFO:tensorflow:Assets written to: efficientb0/assets\n"
     ]
    },
    {
     "name": "stderr",
     "output_type": "stream",
     "text": [
      "INFO:tensorflow:Assets written to: efficientb0/assets\n",
      " 93%|██████████████████████████████████████████████████████████████████████████▌     | 600/644 [35:43<02:18,  3.15s/it]"
     ]
    },
    {
     "name": "stdout",
     "output_type": "stream",
     "text": [
      "Accuracy over epoch (so far) 0.6585143804550171\n",
      "Accuracy over validation set: 0.8554401993751526\n",
      "WARNING:tensorflow:Compiled the loaded model, but the compiled metrics have yet to be built. `model.compile_metrics` will be empty until you train or evaluate the model.\n"
     ]
    },
    {
     "name": "stderr",
     "output_type": "stream",
     "text": [
      "WARNING:tensorflow:Compiled the loaded model, but the compiled metrics have yet to be built. `model.compile_metrics` will be empty until you train or evaluate the model.\n"
     ]
    },
    {
     "name": "stdout",
     "output_type": "stream",
     "text": [
      "INFO:tensorflow:Assets written to: efficientb0/assets\n"
     ]
    },
    {
     "name": "stderr",
     "output_type": "stream",
     "text": [
      "INFO:tensorflow:Assets written to: efficientb0/assets\n",
      "100%|████████████████████████████████████████████████████████████████████████████████| 644/644 [39:18<00:00,  3.66s/it]\n"
     ]
    }
   ],
   "source": [
    "def get_model(url, img_size, num_classes):\n",
    "    model = tf.keras.Sequential([\n",
    "        hub.KerasLayer(url, trainable = True),\n",
    "        layers.Dense(1000, activation=\"relu\"),\n",
    "        layers.Dropout(0.3),\n",
    "        layers.Dense(num_classes, activation=\"softmax\"),\n",
    "    ])\n",
    "    model.build([None, img_size, img_size, 3])\n",
    "    return model\n",
    "\n",
    "@tf.function\n",
    "def train_step(data,labels,acc_metric, model, loss_fn, optimizer):\n",
    "    # PyTorch: N x C x H x W, TF: N x H x W x C\n",
    "    \n",
    "    with tf.GradientTape() as tape:\n",
    "        predictions = model(data, training=True)\n",
    "        loss = loss_fn(labels, predictions)\n",
    "        \n",
    "    gradients = tape.gradient(loss, model.trainable_weights)\n",
    "    optimizer.apply_gradients(zip(gradients, model.trainable_weights))\n",
    "    acc_metric.update_state(labels, predictions)\n",
    "    \n",
    "\n",
    "def evaluate_model(ds_validation, model):\n",
    "    accuracy_metric = keras.metrics.SparseCategoricalAccuracy()\n",
    "    for idx, (data,labels) in enumerate(ds_validation):\n",
    "        data = data.permute(0, 2, 3, 1)\n",
    "        data = tf.convert_to_tensor(np.array(data))\n",
    "        labels = tf.convert_to_tensor(np.array(labels))\n",
    "        y_pred = model(data, training = False)\n",
    "        accuracy_metric.update_state(labels, y_pred)\n",
    "        \n",
    "    accuracy = accuracy_metric.result()\n",
    "    print(f\"Accuracy over validation set: {accuracy}\")\n",
    "\n",
    "def main():\n",
    "    train_loader, dev_loader = get_loaders(DATA_DIR+\"train\", DATA_DIR+\"dev\",\n",
    "                                          BATCH_SIZE, IMG_SIZE)\n",
    "    \n",
    "    if LOAD_MODEL:\n",
    "        print(\"Loading model\")\n",
    "        model = keras.models.load_model(MODEL_PATH)\n",
    "        \n",
    "    else:\n",
    "        print(\"Building model\")\n",
    "        model = get_model(URL, IMG_SIZE, NUM_CLASSES)\n",
    "        \n",
    "    optimizer = keras.optimizers.Adam(lr=3e-4)\n",
    "    loss_fn = keras.losses.SparseCategoricalCrossentropy(from_logits=False)\n",
    "    acc_metric = keras.metrics.SparseCategoricalAccuracy()\n",
    "    \n",
    "    #Training loop\n",
    "    for epoch in range(NUM_EPOCHS):\n",
    "        for idx, (data, labels) in enumerate(tqdm(train_loader)):\n",
    "            data = data.permute(0, 2, 3, 1)\n",
    "            data = tf.convert_to_tensor(np.array(data))\n",
    "            labels = tf.convert_to_tensor(np.array(labels))\n",
    "            train_step(data, labels, acc_metric, model, loss_fn, optimizer)\n",
    "            \n",
    "            if idx % 150 == 0 and idx > 0:\n",
    "                train_acc = acc_metric.result()\n",
    "                print(f\"Accuracy over epoch (so far) {train_acc}\")\n",
    "                \n",
    "                evaluate_model(dev_loader, model)\n",
    "                model.save(MODEL_PATH)\n",
    "\n",
    "if __name__ == \"__main__\":\n",
    "    main()"
   ]
  },
  {
   "cell_type": "code",
   "execution_count": 50,
   "id": "e62a17ee",
   "metadata": {},
   "outputs": [],
   "source": [
    "saved_model_dir = \"efficientb0\"\n",
    "converter = tf.lite.TFLiteConverter.from_saved_model(saved_model_dir)\n",
    "converter.optimizations = [tf.lite.Optimize.DEFAULT]\n",
    "converter.target_spec.supported_types = [tf.float16]\n",
    "tflite_model = converter.convert()\n",
    "\n",
    "with open('xdmodel.tflite', 'wb') as f:\n",
    "    f.write(tflite_model)"
   ]
  },
  {
   "cell_type": "code",
   "execution_count": null,
   "id": "e5ff8dbb",
   "metadata": {},
   "outputs": [],
   "source": []
  }
 ],
 "metadata": {
  "kernelspec": {
   "display_name": "Python 3 (ipykernel)",
   "language": "python",
   "name": "python3"
  },
  "language_info": {
   "codemirror_mode": {
    "name": "ipython",
    "version": 3
   },
   "file_extension": ".py",
   "mimetype": "text/x-python",
   "name": "python",
   "nbconvert_exporter": "python",
   "pygments_lexer": "ipython3",
   "version": "3.8.10"
  }
 },
 "nbformat": 4,
 "nbformat_minor": 5
}
